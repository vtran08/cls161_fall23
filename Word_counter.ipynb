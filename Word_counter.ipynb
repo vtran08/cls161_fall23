{
 "cells": [
  {
   "cell_type": "markdown",
   "id": "f04bc5b1",
   "metadata": {},
   "source": [
    "# Word Counter"
   ]
  },
  {
   "cell_type": "markdown",
   "id": "c98987c9",
   "metadata": {},
   "source": [
    "## Set up"
   ]
  },
  {
   "cell_type": "code",
   "execution_count": null,
   "id": "9f164210",
   "metadata": {},
   "outputs": [],
   "source": [
    "import requests"
   ]
  },
  {
   "cell_type": "code",
   "execution_count": null,
   "id": "01d58af3",
   "metadata": {},
   "outputs": [],
   "source": [
    "url = \"https://raw.githubusercontent.com/msaxton/18th-century-historians/main/gibbon/gibbon_decline_and_fall/gibbon_decline_volume1_chap01.txt\""
   ]
  },
  {
   "cell_type": "code",
   "execution_count": null,
   "id": "9ad24b7a",
   "metadata": {},
   "outputs": [],
   "source": [
    "response = requests.get(url)"
   ]
  },
  {
   "cell_type": "code",
   "execution_count": null,
   "id": "4dd0d209",
   "metadata": {},
   "outputs": [],
   "source": [
    "text = response.text"
   ]
  },
  {
   "cell_type": "code",
   "execution_count": null,
   "id": "db36d56e",
   "metadata": {},
   "outputs": [],
   "source": [
    "text[:200]"
   ]
  },
  {
   "cell_type": "markdown",
   "id": "7eb38e32",
   "metadata": {},
   "source": [
    "## Frist Attempt"
   ]
  },
  {
   "cell_type": "code",
   "execution_count": null,
   "id": "1a3b5562",
   "metadata": {},
   "outputs": [],
   "source": [
    "word_counts = {}"
   ]
  },
  {
   "cell_type": "code",
   "execution_count": null,
   "id": "2d299d63",
   "metadata": {},
   "outputs": [],
   "source": [
    "words = text.split()"
   ]
  },
  {
   "cell_type": "code",
   "execution_count": null,
   "id": "c845217a",
   "metadata": {},
   "outputs": [],
   "source": [
    "for word in words:\n",
    "    lower_word = word.lower()\n",
    "    if lower_word in word_counts.keys():\n",
    "        word_counts[lower_word] += 1\n",
    "    else:\n",
    "        word_counts[lower_word] = 1"
   ]
  },
  {
   "cell_type": "code",
   "execution_count": null,
   "id": "0ca31a75",
   "metadata": {},
   "outputs": [],
   "source": [
    "sorted_word_counts = sorted(word_counts.items(), key=lambda x:x[1], reverse=True)"
   ]
  },
  {
   "cell_type": "code",
   "execution_count": null,
   "id": "d7ad3d3c",
   "metadata": {},
   "outputs": [],
   "source": [
    "sorted_word_counts"
   ]
  },
  {
   "cell_type": "markdown",
   "id": "e132dda2",
   "metadata": {},
   "source": [
    "## Discussion\n",
    "\n",
    "The first attempt at a word counter was a success, but the word count should not include stop words because they do not carry significant meaning."
   ]
  },
  {
   "cell_type": "markdown",
   "id": "a123b802",
   "metadata": {},
   "source": [
    "## Solution 1\n",
    "Remove stop words before counting"
   ]
  },
  {
   "cell_type": "code",
   "execution_count": null,
   "id": "52340d2f",
   "metadata": {},
   "outputs": [],
   "source": [
    "# create list of stop words\n",
    "stop_words = ['the', 'of', 'and', 'to', 'a', 'was', 'in', 'by', 'their', 'were', 'that', 'as', 'which', 'from', 'his', 'with',\n",
    "             'or', 'it', 'on','they', 'had', 'for', 'but', 'its', 'an', 'is', 'we', 'he', 'than', 'into', 'at', 'be', 'those',\n",
    "             'this','not', 'who', 'when', 'any', 'very', 'been', 'within', 'nor', 'are', 'these', 'so', 'would', 'which,',\n",
    "             'without', 'either', 'after', 'about', 'among', 'during', 'before', 'yet',]"
   ]
  },
  {
   "cell_type": "code",
   "execution_count": null,
   "id": "2c710943",
   "metadata": {},
   "outputs": [],
   "source": [
    "# create list of words without stop words\n",
    "words_no_stops = []\n",
    "for word in words:  # using original list of words\n",
    "    word_lower = word.lower()  # we still need to 'normailize' the text by putting everything in lower case\n",
    "    if word_lower not in stop_words:\n",
    "        words_no_stops.append(word_lower)\n",
    "    "
   ]
  },
  {
   "cell_type": "code",
   "execution_count": null,
   "id": "c1aec7f9",
   "metadata": {},
   "outputs": [],
   "source": [
    "word_counts2 = {}"
   ]
  },
  {
   "cell_type": "code",
   "execution_count": null,
   "id": "812aa834",
   "metadata": {},
   "outputs": [],
   "source": [
    "for word in words_no_stops:\n",
    "    word_lower = word.lower()\n",
    "    if word_lower in word_counts2.keys():\n",
    "        word_counts2[word_lower] += 1\n",
    "    else:\n",
    "        word_counts2[word_lower] = 1"
   ]
  },
  {
   "cell_type": "code",
   "execution_count": null,
   "id": "f5cb3e0d",
   "metadata": {},
   "outputs": [],
   "source": [
    "sorted_word_counts2 = sorted(word_counts2.items(), key=lambda x:x[1], reverse=True)"
   ]
  },
  {
   "cell_type": "code",
   "execution_count": null,
   "id": "13f87ed1",
   "metadata": {},
   "outputs": [],
   "source": [
    "sorted_word_counts2"
   ]
  },
  {
   "cell_type": "markdown",
   "id": "8a4084e8",
   "metadata": {},
   "source": [
    "## Solution 2\n",
    "Remove stop words while counting"
   ]
  },
  {
   "cell_type": "code",
   "execution_count": null,
   "id": "65691b5b",
   "metadata": {},
   "outputs": [],
   "source": [
    "word_counts3 = {}"
   ]
  },
  {
   "cell_type": "code",
   "execution_count": null,
   "id": "7d7d3e2f",
   "metadata": {},
   "outputs": [],
   "source": [
    "for word in words:  # using original list of words\n",
    "    word_lower = word.lower()\n",
    "    if word_lower not in stop_words:\n",
    "        if word_lower in word_counts3.keys():\n",
    "            word_counts3[word_lower] += 1\n",
    "        else:\n",
    "            word_counts3[word_lower] = 1"
   ]
  },
  {
   "cell_type": "code",
   "execution_count": null,
   "id": "b09cf364",
   "metadata": {},
   "outputs": [],
   "source": [
    "sorted_word_counts3 = sorted(word_counts3.items(), key=lambda x:x[1], reverse=True)"
   ]
  },
  {
   "cell_type": "markdown",
   "id": "e68065f8",
   "metadata": {},
   "source": [
    "## Remove punctuation"
   ]
  },
  {
   "cell_type": "markdown",
   "id": "15769095",
   "metadata": {},
   "source": [
    "You may have noticed that punctuation marks are messing up the word counts. So, those need to be removed. We will later learn how to remove them more efficently, but we can do so with some tools we have aready learned."
   ]
  },
  {
   "cell_type": "code",
   "execution_count": null,
   "id": "5f5e8068",
   "metadata": {},
   "outputs": [],
   "source": [
    "for word in words:\n",
    "    if word.endswith('.'):\n",
    "        word = word.replace('.', '')\n",
    "    elif word.endswith(','):\n",
    "        word = word.replace(',', '')\n",
    "    else:\n",
    "        continue"
   ]
  },
  {
   "cell_type": "code",
   "execution_count": null,
   "id": "a8c1f90e",
   "metadata": {},
   "outputs": [],
   "source": [
    "word_counts4 = {}"
   ]
  },
  {
   "cell_type": "code",
   "execution_count": null,
   "id": "d191ad1d",
   "metadata": {},
   "outputs": [],
   "source": [
    "for word in words:\n",
    "    word_lower = word.lower()\n",
    "    if word_lower not in stop_words:\n",
    "        if word_lower in word_counts4.keys():\n",
    "            word_counts4[word_lower] += 1\n",
    "        else:\n",
    "            word_counts4[word_lower] = 1"
   ]
  },
  {
   "cell_type": "code",
   "execution_count": null,
   "id": "2b65fd6b",
   "metadata": {},
   "outputs": [],
   "source": [
    "sorted_word_counts4 = sorted(word_counts4.items(), key=lambda x:x[1], reverse=True)"
   ]
  },
  {
   "cell_type": "code",
   "execution_count": null,
   "id": "040034ce",
   "metadata": {},
   "outputs": [],
   "source": [
    "sorted_word_counts4"
   ]
  },
  {
   "cell_type": "markdown",
   "id": "2596c3d3",
   "metadata": {},
   "source": [
    "## More calculation\n",
    "As pointed out in class, it might be useful to know what percentage of our text a give word occupies. We can do that with a small calculation and restructuring our dictinary"
   ]
  },
  {
   "cell_type": "code",
   "execution_count": null,
   "id": "e3460b2e",
   "metadata": {},
   "outputs": [],
   "source": [
    "for k, v in word_counts4.items():\n",
    "    percentage = v / len(words)\n",
    "    word_counts4[k] = {'count': v, 'percentage': percentage}"
   ]
  },
  {
   "cell_type": "code",
   "execution_count": null,
   "id": "a07662ae",
   "metadata": {},
   "outputs": [],
   "source": [
    "word_counts4"
   ]
  },
  {
   "cell_type": "code",
   "execution_count": null,
   "id": "68a695b9",
   "metadata": {},
   "outputs": [],
   "source": [
    "sorted_word_counts4 = sorted(word_counts4.items(), key=lambda x:x[1]['count'], reverse=True)"
   ]
  },
  {
   "cell_type": "code",
   "execution_count": null,
   "id": "18dc891b",
   "metadata": {},
   "outputs": [],
   "source": [
    "sorted_word_counts4"
   ]
  }
 ],
 "metadata": {
  "kernelspec": {
   "display_name": "Python 3 (ipykernel)",
   "language": "python",
   "name": "python3"
  },
  "language_info": {
   "codemirror_mode": {
    "name": "ipython",
    "version": 3
   },
   "file_extension": ".py",
   "mimetype": "text/x-python",
   "name": "python",
   "nbconvert_exporter": "python",
   "pygments_lexer": "ipython3",
   "version": "3.9.13"
  }
 },
 "nbformat": 4,
 "nbformat_minor": 5
}
