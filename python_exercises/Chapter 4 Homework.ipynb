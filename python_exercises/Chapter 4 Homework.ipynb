{
 "cells": [
  {
   "cell_type": "markdown",
   "id": "7943b0e5",
   "metadata": {},
   "source": [
    "# 4-1"
   ]
  },
  {
   "cell_type": "code",
   "execution_count": 83,
   "id": "d227f6d4",
   "metadata": {},
   "outputs": [
    {
     "name": "stdout",
     "output_type": "stream",
     "text": [
      "white\n",
      "margherita\n",
      "veggie\n",
      "cheese\n",
      "pesto\n",
      "\n",
      "\n",
      "I like a good white pizza\n",
      "I like a good margherita pizza\n",
      "I like a good veggie pizza\n",
      "I like a good cheese pizza\n",
      "I like a good pesto pizza\n",
      "\n",
      "\n",
      "Pizza is not bad!\n"
     ]
    }
   ],
   "source": [
    "pizzas = ['white', 'margherita', 'veggie', 'cheese', 'pesto']\n",
    "for pizza in pizzas:\n",
    "    print(pizza)\n",
    "    \n",
    "print(\"\\n\")\n",
    "    \n",
    "for pizza in pizzas:\n",
    "    print(\"I like a good \" + pizza + \" pizza\")\n",
    "\n",
    "print(\"\\n\")\n",
    "    \n",
    "print(\"Pizza is not bad!\")"
   ]
  },
  {
   "cell_type": "markdown",
   "id": "0807eaf6",
   "metadata": {},
   "source": [
    "# 4-2"
   ]
  },
  {
   "cell_type": "code",
   "execution_count": 20,
   "id": "60452e3b",
   "metadata": {
    "scrolled": true
   },
   "outputs": [
    {
     "name": "stdout",
     "output_type": "stream",
     "text": [
      "goat\n",
      "dog\n",
      "giraffe\n",
      "\n",
      "\n",
      "A goat has 4 legs\n",
      "A dog has 4 legs\n",
      "A giraffe has 4 legs\n",
      "All of these are mammals\n"
     ]
    }
   ],
   "source": [
    "animals = ['goat', 'dog', 'giraffe']\n",
    "\n",
    "for animal in animals:\n",
    "    print(animal)\n",
    "    \n",
    "print(\"\\n\")\n",
    "    \n",
    "for animal in animals:\n",
    "    print(\"A \" + animal + \" has 4 legs\")\n",
    "\n",
    "print(\"All of these are mammals\")\n",
    "    "
   ]
  },
  {
   "cell_type": "markdown",
   "id": "b820a014",
   "metadata": {},
   "source": [
    "# 4-3"
   ]
  },
  {
   "cell_type": "code",
   "execution_count": 26,
   "id": "0269775a",
   "metadata": {},
   "outputs": [
    {
     "name": "stdout",
     "output_type": "stream",
     "text": [
      "1\n",
      "2\n",
      "3\n",
      "4\n",
      "5\n",
      "6\n",
      "7\n",
      "8\n",
      "9\n",
      "10\n",
      "11\n",
      "12\n",
      "13\n",
      "14\n",
      "15\n",
      "16\n",
      "17\n",
      "18\n",
      "19\n",
      "20\n"
     ]
    }
   ],
   "source": [
    "numbers = list(range(1, 21))\n",
    "\n",
    "for number in numbers:\n",
    "    print(number)"
   ]
  },
  {
   "cell_type": "markdown",
   "id": "5820d3b2",
   "metadata": {},
   "source": [
    "# 4-6"
   ]
  },
  {
   "cell_type": "code",
   "execution_count": 40,
   "id": "9511e75d",
   "metadata": {},
   "outputs": [
    {
     "name": "stdout",
     "output_type": "stream",
     "text": [
      "1\n",
      "3\n",
      "5\n",
      "7\n",
      "9\n",
      "11\n",
      "13\n",
      "15\n",
      "17\n",
      "19\n"
     ]
    }
   ],
   "source": [
    "odd_numbers = list(range(1, 20, 2))\n",
    "\n",
    "for num in odd_numbers:\n",
    "    print(num)"
   ]
  },
  {
   "cell_type": "markdown",
   "id": "a0b4b648",
   "metadata": {},
   "source": [
    "# 4-10"
   ]
  },
  {
   "cell_type": "code",
   "execution_count": 84,
   "id": "988359ef",
   "metadata": {},
   "outputs": [
    {
     "name": "stdout",
     "output_type": "stream",
     "text": [
      "The first three items in the list are:\n",
      "white\n",
      "margherita\n",
      "veggie\n",
      "\n",
      "The three items in the middle of the list are:\n",
      "margherita\n",
      "veggie\n",
      "cheese\n",
      "\n",
      "The last three items in the list are:\n",
      "veggie\n",
      "cheese\n",
      "pesto\n"
     ]
    }
   ],
   "source": [
    "print(\"The first three items in the list are:\")\n",
    "\n",
    "for pizza in pizzas[:3]:\n",
    "    print(pizza)\n",
    "    \n",
    "print(\"\\n\"+\"The three items in the middle of the list are:\") \n",
    "\n",
    "for pizza in pizzas[1:4]:\n",
    "    print(pizza)\n",
    "    \n",
    "print(\"\\n\" + \"The last three items in the list are:\")\n",
    "\n",
    "for pizza in pizzas[2:]:\n",
    "    print(pizza)"
   ]
  },
  {
   "cell_type": "markdown",
   "id": "7c48bf13",
   "metadata": {},
   "source": [
    "# 4-11"
   ]
  },
  {
   "cell_type": "code",
   "execution_count": 85,
   "id": "d8e5dece",
   "metadata": {},
   "outputs": [
    {
     "name": "stdout",
     "output_type": "stream",
     "text": [
      "My favorite pizzas are:\n",
      "white\n",
      "margherita\n",
      "veggie\n",
      "cheese\n",
      "pesto\n",
      "a pizza that is NOT pineapple\n",
      "\n",
      "My friend's favorite pizzas are:\n",
      "white\n",
      "margherita\n",
      "veggie\n",
      "cheese\n",
      "pesto\n",
      "pineapple\n"
     ]
    }
   ],
   "source": [
    "friends_pizzas = pizzas[:]\n",
    "\n",
    "pizzas.append(\"a pizza that is NOT pineapple\")\n",
    "friends_pizzas.append(\"pineapple\")\n",
    "\n",
    "print(\"My favorite pizzas are:\")\n",
    "for pizza1 in pizzas:\n",
    "    print(pizza1)\n",
    "    \n",
    "print(\"\\nMy friend's favorite pizzas are:\")\n",
    "for pizza2 in friends_pizzas:\n",
    "    print(pizza2)"
   ]
  }
 ],
 "metadata": {
  "kernelspec": {
   "display_name": "Python 3 (ipykernel)",
   "language": "python",
   "name": "python3"
  },
  "language_info": {
   "codemirror_mode": {
    "name": "ipython",
    "version": 3
   },
   "file_extension": ".py",
   "mimetype": "text/x-python",
   "name": "python",
   "nbconvert_exporter": "python",
   "pygments_lexer": "ipython3",
   "version": "3.11.4"
  }
 },
 "nbformat": 4,
 "nbformat_minor": 5
}
