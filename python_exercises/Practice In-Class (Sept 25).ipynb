{
 "cells": [
  {
   "cell_type": "markdown",
   "id": "1b1ba242",
   "metadata": {},
   "source": [
    "# Conditionals "
   ]
  },
  {
   "cell_type": "code",
   "execution_count": 10,
   "id": "d48f5c86",
   "metadata": {},
   "outputs": [
    {
     "name": "stdout",
     "output_type": "stream",
     "text": [
      "['a', 'b', 'c']\n",
      "2\n"
     ]
    }
   ],
   "source": [
    "list_of_lists = [[\"a\", \"b\", \"c\"], [\"1\", \"2\",\"3\"]]\n",
    "\n",
    "len(list_of_lists)\n",
    "\n",
    "print(list_of_lists[0])\n",
    "\n",
    "print(list_of_lists[1][1])"
   ]
  },
  {
   "cell_type": "markdown",
   "id": "605f2b17",
   "metadata": {},
   "source": [
    "## Booleans "
   ]
  },
  {
   "cell_type": "code",
   "execution_count": 12,
   "id": "cdab0f2a",
   "metadata": {},
   "outputs": [],
   "source": [
    "a = True \n",
    "b = False"
   ]
  },
  {
   "cell_type": "code",
   "execution_count": 13,
   "id": "28316312",
   "metadata": {},
   "outputs": [
    {
     "name": "stdout",
     "output_type": "stream",
     "text": [
      "<class 'bool'>\n"
     ]
    }
   ],
   "source": [
    "print(type(a))"
   ]
  },
  {
   "cell_type": "code",
   "execution_count": 14,
   "id": "9d626a35",
   "metadata": {},
   "outputs": [
    {
     "name": "stdout",
     "output_type": "stream",
     "text": [
      "False\n"
     ]
    }
   ],
   "source": [
    "print(7 == 10)"
   ]
  },
  {
   "cell_type": "code",
   "execution_count": 15,
   "id": "81096f99",
   "metadata": {},
   "outputs": [
    {
     "name": "stdout",
     "output_type": "stream",
     "text": [
      "True\n"
     ]
    }
   ],
   "source": [
    "print(7 != 10)"
   ]
  },
  {
   "cell_type": "code",
   "execution_count": 16,
   "id": "ad18cc4b",
   "metadata": {},
   "outputs": [
    {
     "name": "stdout",
     "output_type": "stream",
     "text": [
      "False\n"
     ]
    }
   ],
   "source": [
    "print(7 > 10)"
   ]
  },
  {
   "cell_type": "code",
   "execution_count": 17,
   "id": "b3f896db",
   "metadata": {},
   "outputs": [
    {
     "data": {
      "text/plain": [
       "True"
      ]
     },
     "execution_count": 17,
     "metadata": {},
     "output_type": "execute_result"
    }
   ],
   "source": [
    "c = 18\n",
    "c == 18"
   ]
  },
  {
   "cell_type": "code",
   "execution_count": 18,
   "id": "e39443e4",
   "metadata": {},
   "outputs": [
    {
     "data": {
      "text/plain": [
       "False"
      ]
     },
     "execution_count": 18,
     "metadata": {},
     "output_type": "execute_result"
    }
   ],
   "source": [
    "'c' == 18"
   ]
  },
  {
   "cell_type": "code",
   "execution_count": 19,
   "id": "f6b957d1",
   "metadata": {},
   "outputs": [
    {
     "name": "stdout",
     "output_type": "stream",
     "text": [
      "True\n"
     ]
    }
   ],
   "source": [
    "print(\"Gibbon\" == \"Gibbon\")"
   ]
  },
  {
   "cell_type": "code",
   "execution_count": 20,
   "id": "a120f470",
   "metadata": {},
   "outputs": [
    {
     "name": "stdout",
     "output_type": "stream",
     "text": [
      "False\n"
     ]
    }
   ],
   "source": [
    "print(\"Gibbon\" == \"gibbon\")"
   ]
  },
  {
   "cell_type": "code",
   "execution_count": 21,
   "id": "2ef6159c",
   "metadata": {},
   "outputs": [],
   "source": [
    "historians = [\"gibbon\", \"eusebius\", \"lepore\"]"
   ]
  },
  {
   "cell_type": "code",
   "execution_count": 23,
   "id": "2da1b1f6",
   "metadata": {},
   "outputs": [
    {
     "name": "stdout",
     "output_type": "stream",
     "text": [
      "True\n"
     ]
    }
   ],
   "source": [
    "# check if item is in list \n",
    "print(\"gibbon\" in historians)"
   ]
  },
  {
   "cell_type": "code",
   "execution_count": 24,
   "id": "b54fa33c",
   "metadata": {},
   "outputs": [
    {
     "name": "stdout",
     "output_type": "stream",
     "text": [
      "False\n"
     ]
    }
   ],
   "source": [
    "print(\"Gibbon\" in historians)"
   ]
  },
  {
   "cell_type": "code",
   "execution_count": 49,
   "id": "1dc3595b",
   "metadata": {},
   "outputs": [
    {
     "name": "stdout",
     "output_type": "stream",
     "text": [
      "True\n"
     ]
    }
   ],
   "source": [
    "print(\"Gibbon\" in historians or \"gibbon\" in historians)"
   ]
  },
  {
   "cell_type": "markdown",
   "id": "ad188373",
   "metadata": {},
   "source": [
    "# Conditionals"
   ]
  },
  {
   "cell_type": "code",
   "execution_count": 42,
   "id": "f0fae7df",
   "metadata": {},
   "outputs": [],
   "source": [
    "age = 18"
   ]
  },
  {
   "cell_type": "code",
   "execution_count": 44,
   "id": "a6a3a145",
   "metadata": {},
   "outputs": [
    {
     "name": "stdout",
     "output_type": "stream",
     "text": [
      "Happy birthday, welcome to democracy, it's a little rough out there.\n"
     ]
    }
   ],
   "source": [
    "if age > 18: \n",
    "    print(\"You are old enough to vote.\")\n",
    "elif age == 18:\n",
    "    print(\"Happy birthday, welcome to democracy, it's a little rough out there.\")\n",
    "else:\n",
    "    print(\"You are too young to vote.\")"
   ]
  },
  {
   "cell_type": "markdown",
   "id": "7d9a3ac4",
   "metadata": {},
   "source": [
    "# Boolean Operators"
   ]
  },
  {
   "cell_type": "code",
   "execution_count": 46,
   "id": "f2a20231",
   "metadata": {},
   "outputs": [
    {
     "data": {
      "text/plain": [
       "False"
      ]
     },
     "execution_count": 46,
     "metadata": {},
     "output_type": "execute_result"
    }
   ],
   "source": [
    "(7 != 10) and (7 > 10)"
   ]
  },
  {
   "cell_type": "code",
   "execution_count": 48,
   "id": "baba71fa",
   "metadata": {},
   "outputs": [
    {
     "data": {
      "text/plain": [
       "True"
      ]
     },
     "execution_count": 48,
     "metadata": {},
     "output_type": "execute_result"
    }
   ],
   "source": [
    "(7 != 10) or (7 < 10)"
   ]
  },
  {
   "cell_type": "code",
   "execution_count": 52,
   "id": "48ba47f5",
   "metadata": {},
   "outputs": [
    {
     "name": "stdout",
     "output_type": "stream",
     "text": [
      "Gibbon is in list\n",
      "Gibbon is not in list\n",
      "Gibbon is not in list\n"
     ]
    }
   ],
   "source": [
    "for historian in historians:\n",
    "    if historian == \"Gibbon\" or historian == \"gibbon\":\n",
    "        print(\"Gibbon is in list\")\n",
    "    else:\n",
    "        print(\"Gibbon is not in list\")"
   ]
  },
  {
   "cell_type": "code",
   "execution_count": null,
   "id": "14e18866",
   "metadata": {},
   "outputs": [],
   "source": []
  }
 ],
 "metadata": {
  "kernelspec": {
   "display_name": "Python 3 (ipykernel)",
   "language": "python",
   "name": "python3"
  },
  "language_info": {
   "codemirror_mode": {
    "name": "ipython",
    "version": 3
   },
   "file_extension": ".py",
   "mimetype": "text/x-python",
   "name": "python",
   "nbconvert_exporter": "python",
   "pygments_lexer": "ipython3",
   "version": "3.11.4"
  }
 },
 "nbformat": 4,
 "nbformat_minor": 5
}
