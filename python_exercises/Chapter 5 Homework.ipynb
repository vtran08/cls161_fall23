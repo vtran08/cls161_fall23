{
 "cells": [
  {
   "cell_type": "markdown",
   "id": "6bca2685",
   "metadata": {},
   "source": [
    "# 5-1"
   ]
  },
  {
   "cell_type": "code",
   "execution_count": 1,
   "id": "6e0dbbc3",
   "metadata": {},
   "outputs": [
    {
     "name": "stdout",
     "output_type": "stream",
     "text": [
      "Is the car == 'toyota'? I predict True\n",
      "True\n",
      "\n",
      "Is the cheese == 'cheddar'? I predict False\n",
      "False\n",
      "\n",
      "Is the character == 'Spongebob'? I predict True\n",
      "True\n",
      "\n",
      "Is the season == 'fall'? I predict False\n",
      "False\n",
      "\n",
      "Is the temperature == 'hot'? I predict True\n",
      "True\n",
      "\n",
      "Is the main_character == 'alive'? I predict False\n",
      "False\n",
      "\n",
      "Is the laptop == 'PC'? I predict True\n",
      "True\n",
      "\n",
      "Is the washroom == 'In Use'? I predict False\n",
      "False\n",
      "\n",
      "Are the chips == 'Sour Cream'? I predict True\n",
      "True\n",
      "\n",
      "Is the juice == 'Orange'? I predict False\n",
      "False\n"
     ]
    }
   ],
   "source": [
    "car = 'toyota'\n",
    "print(\"Is the car == 'toyota'? I predict True\")\n",
    "print(car == 'toyota')\n",
    "\n",
    "cheese = 'parmesan'\n",
    "print(\"\\nIs the cheese == 'cheddar'? I predict False\")\n",
    "print(car == 'cheddar')\n",
    "\n",
    "character = 'Spongebob'\n",
    "print(\"\\nIs the character == 'Spongebob'? I predict True\")\n",
    "print(character == 'Spongebob')\n",
    "\n",
    "season = 'spring'\n",
    "print(\"\\nIs the season == 'fall'? I predict False\")\n",
    "print(season == \"fall\")\n",
    "\n",
    "temperature = 'hot'\n",
    "print(\"\\nIs the temperature == 'hot'? I predict True\")\n",
    "print(temperature == 'hot')\n",
    "\n",
    "main_character = 'dead'\n",
    "print(\"\\nIs the main_character == 'alive'? I predict False\")\n",
    "print(main_character == 'alive')\n",
    "\n",
    "laptop = 'PC'\n",
    "print(\"\\nIs the laptop == 'PC'? I predict True\")\n",
    "print(laptop == 'PC')\n",
    "\n",
    "washroom = 'Vacant'\n",
    "print(\"\\nIs the washroom == 'In Use'? I predict False\")\n",
    "print(washroom == 'In Use')\n",
    "\n",
    "chips = 'Sour Cream'\n",
    "print(\"\\nAre the chips == 'Sour Cream'? I predict True\")\n",
    "print(chips == 'Sour Cream')\n",
    "\n",
    "juice = 'Apple'\n",
    "print(\"\\nIs the juice == 'Orange'? I predict False\")\n",
    "print(juice == 'Orange')"
   ]
  },
  {
   "cell_type": "markdown",
   "id": "ff81725a",
   "metadata": {},
   "source": [
    "# 5-2"
   ]
  },
  {
   "cell_type": "code",
   "execution_count": 28,
   "id": "9c076dca",
   "metadata": {},
   "outputs": [
    {
     "name": "stdout",
     "output_type": "stream",
     "text": [
      "Are the noodles == 'spicy'? I predict True\n",
      "True\n",
      "\n",
      "Is the pasta == 'vegan'? I predict False\n",
      "False\n",
      "\n",
      "Is the pizza == 'vegetarian'? I predict True\n",
      "True\n",
      "\n",
      "Is the water == 'LIME-FLAVORED'? I predict False\n",
      "False\n",
      "\n",
      "\n",
      "True\n",
      "False\n",
      "True\n",
      "False\n",
      "True\n",
      "False\n",
      "\n",
      "\n",
      "False\n",
      "True\n",
      "False\n",
      "True\n",
      "\n",
      "\n",
      "True\n",
      "False\n"
     ]
    }
   ],
   "source": [
    "# Equality with strings\n",
    "\n",
    "noodles = \"spicy\"\n",
    "print(\"Are the noodles == 'spicy'? I predict True\")\n",
    "print(noodles == 'spicy')\n",
    "\n",
    "pasta = 'vegetarian'\n",
    "print(\"\\nIs the pasta == 'vegan'? I predict False\")\n",
    "print(pasta == 'vegan')\n",
    "\n",
    "# Using lower() function\n",
    "\n",
    "pizza = 'VEGETARIAN'\n",
    "print(\"\\nIs the pizza == 'vegetarian'? I predict True\")\n",
    "print(pizza.lower() == 'vegetarian')\n",
    "\n",
    "\n",
    "water = \"Lime-flavored\"\n",
    "print(\"\\nIs the water == 'LIME-FLAVORED'? I predict False\")\n",
    "print(water.lower() == 'Lime-flavored')\n",
    "\n",
    "# Numerical tests\n",
    "x = 10\n",
    "y = 12\n",
    "z = 30\n",
    "\n",
    "print(\"\\n\")\n",
    "print(x == x)\n",
    "print(y == z)\n",
    "\n",
    "print(y > x)\n",
    "print(z < x)\n",
    "\n",
    "print(x >= x)\n",
    "print(z <= y)\n",
    "\n",
    "# Using and/or\n",
    "\n",
    "print(\"\\n\")\n",
    "print(water == 'Lime-flavored' and pizza == 'vegetarian')\n",
    "print(water == 'Lime-flavored' and pizza == 'VEGETARIAN')\n",
    "\n",
    "print(noodles == 'mild' or pasta == 'yummy')\n",
    "print(noodles == 'mild' or pasta == 'vegetarian')\n",
    "\n",
    "# Checking if item is in list\n",
    "\n",
    "colors = ['yellow', 'red', 'blue', 'green']\n",
    "print(\"\\n\")\n",
    "print('green' in colors)\n",
    "print('orange' in colors) "
   ]
  },
  {
   "cell_type": "markdown",
   "id": "721bde4a",
   "metadata": {},
   "source": [
    "# 5-6"
   ]
  },
  {
   "cell_type": "code",
   "execution_count": 30,
   "id": "4f6c7c5a",
   "metadata": {},
   "outputs": [
    {
     "name": "stdout",
     "output_type": "stream",
     "text": [
      "you are an adult\n"
     ]
    }
   ],
   "source": [
    "age = 24\n",
    "\n",
    "if (age < 2): \n",
    "    print(\"you are a baby\")\n",
    "elif (age >= 2 and age < 4):\n",
    "    print(\"you are a toddler\")\n",
    "elif (age >= 4 and age < 13):\n",
    "    print(\"you are a kid\")\n",
    "elif (age >= 13 and age < 20):\n",
    "    print(\"you are a teenager\")\n",
    "elif (age >= 20 and age < 65):\n",
    "    print(\"you are an adult\")\n",
    "elif (age > 65):\n",
    "    print(\"you are an elder\")\n"
   ]
  },
  {
   "cell_type": "markdown",
   "id": "74d50de0",
   "metadata": {},
   "source": [
    "# 5-7"
   ]
  },
  {
   "cell_type": "code",
   "execution_count": 33,
   "id": "395a7377",
   "metadata": {},
   "outputs": [
    {
     "name": "stdout",
     "output_type": "stream",
     "text": [
      "True\n",
      "True\n",
      "True\n",
      "True\n",
      "You really like bananas!\n",
      "You really like apples!\n",
      "You really like oranges!\n"
     ]
    }
   ],
   "source": [
    "fruits = ['kiwi', 'lemon', 'orange', 'grapes']\n",
    "\n",
    "if 'kiwi' in fruits:\n",
    "    print(\"True\")\n",
    "if 'lemon' in fruits:\n",
    "    print(\"True\")\n",
    "if 'orange' in fruits:\n",
    "    print(\"True\")\n",
    "if 'grapes'in fruits:\n",
    "    print(\"True\")\n",
    "\n",
    "favorite_fruits = ['banana', 'apple', 'orange']\n",
    "\n",
    "if 'grape' in favorite_fruits:\n",
    "    print(\"You really like grapes!\")\n",
    "\n",
    "if 'banana' in favorite_fruits:\n",
    "    print(\"You really like bananas!\")\n",
    "    \n",
    "if 'apple' in favorite_fruits:\n",
    "    print(\"You really like apples!\")\n",
    "    \n",
    "if 'lemon' in favorite_fruits:\n",
    "    print(\"You really like lemons!\")\n",
    "\n",
    "if 'orange' in favorite_fruits:\n",
    "    print(\"You really like oranges!\") \n",
    "    "
   ]
  },
  {
   "cell_type": "markdown",
   "id": "aa131eaf",
   "metadata": {},
   "source": [
    "# 5-8"
   ]
  },
  {
   "cell_type": "code",
   "execution_count": 53,
   "id": "c7ee209f",
   "metadata": {},
   "outputs": [
    {
     "name": "stdout",
     "output_type": "stream",
     "text": [
      "Hello admin, would you like to see a status report?\n",
      "Hello lyney, thank you for logging in again.\n",
      "Hello lynette, thank you for logging in again.\n",
      "Hello mona, thank you for logging in again.\n",
      "Hello diona, thank you for logging in again.\n",
      "Hello nahida, thank you for logging in again.\n"
     ]
    }
   ],
   "source": [
    "usernames = ['admin', 'lyney', 'lynette', 'mona', 'diona', 'nahida']\n",
    "\n",
    "for user in usernames:\n",
    "    if user == 'admin':\n",
    "        print(\"Hello admin, would you like to see a status report?\")\n",
    "    else: \n",
    "        print(\"Hello \" + user + \", thank you for logging in again.\")"
   ]
  },
  {
   "cell_type": "markdown",
   "id": "858325f4",
   "metadata": {},
   "source": [
    "# 5-9"
   ]
  },
  {
   "cell_type": "code",
   "execution_count": 58,
   "id": "9b733235",
   "metadata": {},
   "outputs": [
    {
     "name": "stdout",
     "output_type": "stream",
     "text": [
      "We need to find some users!\n"
     ]
    }
   ],
   "source": [
    "usernames.clear()\n",
    "\n",
    "if usernames:\n",
    "    print(\"We have enough users\")\n",
    "else:\n",
    "    print(\"We need to find some users!\")"
   ]
  },
  {
   "cell_type": "markdown",
   "id": "fc6d30c1",
   "metadata": {},
   "source": [
    "# 5-10"
   ]
  },
  {
   "cell_type": "code",
   "execution_count": 5,
   "id": "bc518fb3",
   "metadata": {},
   "outputs": [
    {
     "name": "stdout",
     "output_type": "stream",
     "text": [
      "Sorry, the username lyney is unavailable. Please select another username.\n",
      "Sorry, the username LYNEY is unavailable. Please select another username.\n"
     ]
    }
   ],
   "source": [
    "current_users = ['fischl', 'venti', 'hu tao', 'lyney', 'kazuha']\n",
    "\n",
    "new_users = ['oz', 'itto', 'lyney', 'LYNEY', 'kaveh']\n",
    "\n",
    "for user in new_users:\n",
    "        if user.upper() in (name.upper() for name in current_users):\n",
    "            print(\"Sorry, the username \" + user + \" is unavailable. Please select another username.\")"
   ]
  },
  {
   "cell_type": "code",
   "execution_count": null,
   "id": "5d424a35",
   "metadata": {},
   "outputs": [],
   "source": []
  }
 ],
 "metadata": {
  "kernelspec": {
   "display_name": "Python 3 (ipykernel)",
   "language": "python",
   "name": "python3"
  },
  "language_info": {
   "codemirror_mode": {
    "name": "ipython",
    "version": 3
   },
   "file_extension": ".py",
   "mimetype": "text/x-python",
   "name": "python",
   "nbconvert_exporter": "python",
   "pygments_lexer": "ipython3",
   "version": "3.11.4"
  }
 },
 "nbformat": 4,
 "nbformat_minor": 5
}
