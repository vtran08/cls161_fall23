{
 "cells": [
  {
   "cell_type": "markdown",
   "id": "59d7823e",
   "metadata": {},
   "source": [
    "# Functions"
   ]
  },
  {
   "cell_type": "code",
   "execution_count": 4,
   "id": "f8a4ddab",
   "metadata": {},
   "outputs": [
    {
     "name": "stdout",
     "output_type": "stream",
     "text": [
      "Hello.\n"
     ]
    }
   ],
   "source": [
    "# Basic Example\n",
    "\n",
    "def say_hello():\n",
    "    \"\"\"Display a greeting\"\"\"\n",
    "    print(\"Hello.\")\n",
    "\n",
    "say_hello()"
   ]
  },
  {
   "cell_type": "code",
   "execution_count": 9,
   "id": "f13035c4",
   "metadata": {},
   "outputs": [
    {
     "name": "stdout",
     "output_type": "stream",
     "text": [
      "Hello, Micah!\n",
      "Hello, Vivian!\n"
     ]
    }
   ],
   "source": [
    "def say_hello_name(name):\n",
    "    \"\"\"Greet by name\"\"\"\n",
    "    print(f\"Hello, {name}!\")\n",
    "    \n",
    "say_hello_name(\"Micah\")\n",
    "say_hello_name(\"Vivian\")"
   ]
  },
  {
   "cell_type": "code",
   "execution_count": 10,
   "id": "f4749244",
   "metadata": {},
   "outputs": [],
   "source": [
    "names = [\"Yao\", \"Cerena\", \"Taylor\"]"
   ]
  },
  {
   "cell_type": "code",
   "execution_count": 11,
   "id": "59494b61",
   "metadata": {},
   "outputs": [
    {
     "name": "stdout",
     "output_type": "stream",
     "text": [
      "Hello, Yao!\n",
      "Hello, Cerena!\n",
      "Hello, Taylor!\n"
     ]
    }
   ],
   "source": [
    "for name in names:\n",
    "    say_hello_name(name)"
   ]
  },
  {
   "cell_type": "code",
   "execution_count": 18,
   "id": "7803f48e",
   "metadata": {},
   "outputs": [
    {
     "name": "stdout",
     "output_type": "stream",
     "text": [
      "Keith writes young-adult romance.\n"
     ]
    }
   ],
   "source": [
    "def describe_author(name, genre):\n",
    "    \"\"\"Describe an author by genre\"\"\"\n",
    "    print(f\"{name.title()} writes {genre}.\")\n",
    "    \n",
    "describe_author(\"Keith\", \"young-adult romance\")"
   ]
  },
  {
   "cell_type": "code",
   "execution_count": 20,
   "id": "44a4f42a",
   "metadata": {},
   "outputs": [],
   "source": [
    "def format_name(first_name, last_name):\n",
    "    full_name = f\"{first_name.title()} {last_name.title()}\"\n",
    "    return full_name"
   ]
  },
  {
   "cell_type": "code",
   "execution_count": 24,
   "id": "680277f1",
   "metadata": {},
   "outputs": [
    {
     "name": "stdout",
     "output_type": "stream",
     "text": [
      "Keith Truong\n"
     ]
    }
   ],
   "source": [
    "philosopher = format_name(\"keith\", \"truong\")\n",
    "print(philosopher)"
   ]
  },
  {
   "cell_type": "code",
   "execution_count": null,
   "id": "327aa48b",
   "metadata": {},
   "outputs": [],
   "source": []
  }
 ],
 "metadata": {
  "kernelspec": {
   "display_name": "Python 3 (ipykernel)",
   "language": "python",
   "name": "python3"
  },
  "language_info": {
   "codemirror_mode": {
    "name": "ipython",
    "version": 3
   },
   "file_extension": ".py",
   "mimetype": "text/x-python",
   "name": "python",
   "nbconvert_exporter": "python",
   "pygments_lexer": "ipython3",
   "version": "3.11.4"
  }
 },
 "nbformat": 4,
 "nbformat_minor": 5
}
