{
 "cells": [
  {
   "cell_type": "markdown",
   "id": "599615f3",
   "metadata": {},
   "source": [
    "# 6-1"
   ]
  },
  {
   "cell_type": "code",
   "execution_count": 4,
   "id": "32850492",
   "metadata": {},
   "outputs": [
    {
     "name": "stdout",
     "output_type": "stream",
     "text": [
      "yao\n",
      "wang\n",
      "21\n",
      "philadelphia\n"
     ]
    }
   ],
   "source": [
    "yao = {'first_name' : 'yao', \"last_name\" : 'wang', 'age': '21', 'city': 'philadelphia'}\n",
    "\n",
    "print(yao['first_name'])\n",
    "print(yao['last_name'])\n",
    "print(yao['age'])\n",
    "print(yao['city'])"
   ]
  },
  {
   "cell_type": "markdown",
   "id": "6af7c701",
   "metadata": {},
   "source": [
    "# 6-2"
   ]
  },
  {
   "cell_type": "code",
   "execution_count": 14,
   "id": "372b6b3d",
   "metadata": {},
   "outputs": [
    {
     "name": "stdout",
     "output_type": "stream",
     "text": [
      "yao 21\n",
      "mary marshall 8\n",
      "shiyeon 12\n",
      "serafina 64\n",
      "cerena 9\n"
     ]
    }
   ],
   "source": [
    "fav_num = {'yao': '21', 'mary marshall': '8', 'shiyeon': '12', 'serafina': '64', 'cerena': '9'}\n",
    "\n",
    "for k, v in fav_num.items():\n",
    "    print(k,v)"
   ]
  },
  {
   "cell_type": "markdown",
   "id": "fe5e4f48",
   "metadata": {},
   "source": [
    "# 6-3"
   ]
  },
  {
   "cell_type": "code",
   "execution_count": 25,
   "id": "c1ef72d4",
   "metadata": {},
   "outputs": [
    {
     "name": "stdout",
     "output_type": "stream",
     "text": [
      "string: a sequence of characters\n",
      "\n",
      "integer: a unit that is either a zero, positive, or negative whole number\n",
      "\n",
      "variable: an item that can store a value\n",
      "\n",
      "list: can store a selection of values, including other lists\n",
      "\n",
      "dictionary: a set of key value pairs\n",
      "\n"
     ]
    }
   ],
   "source": [
    "glossary = {'string': 'a sequence of characters', \n",
    "            'integer': 'a unit that is either a zero, positive, or negative whole number',\n",
    "            'variable': 'an item that can store a value', \n",
    "            'list': 'can store a selection of values, including other lists', \n",
    "            'dictionary': 'a set of key value pairs'}\n",
    "\n",
    "for k, v in glossary.items():\n",
    "    print(k + \": \" + v + \"\\n\")\n"
   ]
  },
  {
   "cell_type": "markdown",
   "id": "11abb54c",
   "metadata": {},
   "source": [
    "# 6-4"
   ]
  },
  {
   "cell_type": "code",
   "execution_count": 29,
   "id": "7263f71a",
   "metadata": {},
   "outputs": [
    {
     "name": "stdout",
     "output_type": "stream",
     "text": [
      "string: a sequence of characters\n",
      "\n",
      "integer: a unit that is either a zero, positive, or negative whole number\n",
      "\n",
      "variable: an item that can store a value\n",
      "\n",
      "list: can store a selection of values, including other lists\n",
      "\n",
      "dictionary: a set of key value pairs\n",
      "\n",
      "float: decimal values or fractional numbers\n",
      "\n",
      "boolean: a data type that has one of two values, True or False\n",
      "\n",
      "conditional: commands like if or elif that can handle decisions and perform different computations for different cases\n",
      "\n",
      "slicing: can split strings and return a range of characters within the original string\n",
      "\n",
      "loop: can perform an action for a certain number of times until a stop point\n",
      "\n"
     ]
    }
   ],
   "source": [
    "new_glossary = {'string': 'a sequence of characters', \n",
    "                'integer': 'a unit that is either a zero, positive, or negative whole number',\n",
    "                'variable': 'an item that can store a value', \n",
    "                'list': 'can store a selection of values, including other lists', \n",
    "                'dictionary': 'a set of key value pairs',\n",
    "                'float': 'decimal values or fractional numbers',\n",
    "                'boolean': 'a data type that has one of two values, True or False',\n",
    "                'conditional': 'commands like if or elif that can handle decisions and perform different computations for different cases',\n",
    "                'slicing': 'can split strings and return a range of characters within the original string',\n",
    "                'loop': 'can perform an action for a certain number of times until a stop point'}\n",
    "\n",
    "for k,v in new_glossary.items():\n",
    "    print(k + \": \" + v + \"\\n\") "
   ]
  },
  {
   "cell_type": "markdown",
   "id": "14b9717f",
   "metadata": {},
   "source": [
    "# 6-5"
   ]
  },
  {
   "cell_type": "code",
   "execution_count": 39,
   "id": "3534f111",
   "metadata": {},
   "outputs": [
    {
     "name": "stdout",
     "output_type": "stream",
     "text": [
      "The Nile river runs through Egypt\n",
      "The Mississippi river runs through the United States\n",
      "The Mekong river runs through Vietnam\n",
      "\n",
      "\n",
      "Nile\n",
      "Mississippi\n",
      "Mekong\n",
      "\n",
      "\n",
      "Egypt\n",
      "the United States\n",
      "Vietnam\n"
     ]
    }
   ],
   "source": [
    "major_rivers = {'Nile':'Egypt', 'Mississippi':'the United States', 'Mekong':'Vietnam'}\n",
    "\n",
    "for k,v in major_rivers.items():\n",
    "    print(\"The \" + k + \" river runs through \" + v)\n",
    "    \n",
    "print(\"\\n\")\n",
    "for k in major_rivers.keys():\n",
    "    print(k)\n",
    "\n",
    "print(\"\\n\")\n",
    "for v in major_rivers.values():\n",
    "    print(v)"
   ]
  },
  {
   "cell_type": "markdown",
   "id": "273e9951",
   "metadata": {},
   "source": [
    "# 6-7"
   ]
  },
  {
   "cell_type": "code",
   "execution_count": 45,
   "id": "b34f1975",
   "metadata": {},
   "outputs": [
    {
     "name": "stdout",
     "output_type": "stream",
     "text": [
      "{'first_name': 'yao', 'last_name': 'wang', 'age': '21', 'city': 'philadelphia'}\n",
      "{'first_name': 'mary marshall', 'last_name': 'martin', 'age': '21', 'city': 'roanoke'}\n",
      "{'first_name': 'becky', 'last_name': 'moon', 'age': '21', 'city': 'st.louis'}\n"
     ]
    }
   ],
   "source": [
    "yao = {'first_name' : 'yao', \"last_name\" : 'wang', 'age': '21', 'city': 'philadelphia'}\n",
    "mary_marshall = {'first_name': 'mary marshall', 'last_name': 'martin', 'age': '21', 'city': 'roanoke'}\n",
    "becky = {'first_name': 'becky', 'last_name': 'moon', 'age': '21', 'city': 'st.louis'}\n",
    "\n",
    "people = [yao, mary_marshall, becky]\n",
    "\n",
    "for person in people:\n",
    "    print(person)"
   ]
  },
  {
   "cell_type": "markdown",
   "id": "db67067d",
   "metadata": {},
   "source": [
    "# 6-8"
   ]
  },
  {
   "cell_type": "code",
   "execution_count": 46,
   "id": "b77716c6",
   "metadata": {},
   "outputs": [
    {
     "name": "stdout",
     "output_type": "stream",
     "text": [
      "{'kind': 'dog', 'owner': 'Edward'}\n",
      "{'kind': 'dog', 'owner': 'Carrie'}\n",
      "{'kind': 'dog', 'owner': 'Ana'}\n"
     ]
    }
   ],
   "source": [
    "dolly = {'kind':'dog', 'owner':'Edward'}\n",
    "charlie = {'kind': 'dog', 'owner': 'Carrie'}\n",
    "vicente = {'kind': 'dog', 'owner': 'Ana'}\n",
    "\n",
    "pets = [dolly, charlie, vicente]\n",
    "\n",
    "for pet in pets:\n",
    "    print(pet)"
   ]
  },
  {
   "cell_type": "markdown",
   "id": "dc116d84",
   "metadata": {},
   "source": [
    "# 6-9"
   ]
  },
  {
   "cell_type": "code",
   "execution_count": 49,
   "id": "d02a8df9",
   "metadata": {},
   "outputs": [
    {
     "name": "stdout",
     "output_type": "stream",
     "text": [
      "yao's favorite place is personal room\n",
      "shiyeon's favorite place is home\n",
      "taylor's favorite place is library or the Norfolk Pub\n",
      "mary marshall's favorite place is Royal Museum of Fine Arts in Belgium\n"
     ]
    }
   ],
   "source": [
    "favorite_places = {'yao': 'personal room', 'shiyeon': 'home', 'taylor': 'library or the Norfolk Pub', 'mary marshall': 'Royal Museum of Fine Arts in Belgium'}\n",
    "\n",
    "for person, place in favorite_places.items():\n",
    "    print(person + \"'s favorite place is \" + place)"
   ]
  },
  {
   "cell_type": "markdown",
   "id": "dd323dff",
   "metadata": {},
   "source": [
    "# 6-11"
   ]
  },
  {
   "cell_type": "code",
   "execution_count": 61,
   "id": "39eab5d9",
   "metadata": {},
   "outputs": [
    {
     "name": "stdout",
     "output_type": "stream",
     "text": [
      "Yao's favorite numbers are:\n",
      "\t21\n",
      "\t32\n",
      "\t6\n",
      "Mary Marshall's favorite numbers are:\n",
      "\t8\n",
      "\t7\n",
      "\t13\n",
      "Shiyeon's favorite numbers are:\n",
      "\t12\n",
      "\t37\n",
      "\t76\n",
      "Serafina's favorite numbers are:\n",
      "\t64\n",
      "\t23\n",
      "\t35\n",
      "Cerena's favorite numbers are:\n",
      "\t9\n",
      "\t24\n",
      "\t20\n"
     ]
    }
   ],
   "source": [
    "fav_num = {'yao' : ['21', '32', '6'], \n",
    "           'mary marshall': ['8', '7', '13'],\n",
    "           'shiyeon': ['12', '37', '76'],\n",
    "           'serafina': ['64', '23', '35'],\n",
    "           'cerena': ['9', '24', '20']\n",
    "          }\n",
    "\n",
    "for name, num, in fav_num.items():\n",
    "    print(name.title() + \"'s favorite numbers are:\")\n",
    "    for n in num:\n",
    "        print(\"\\t\" + n)\n",
    "    "
   ]
  }
 ],
 "metadata": {
  "kernelspec": {
   "display_name": "Python 3 (ipykernel)",
   "language": "python",
   "name": "python3"
  },
  "language_info": {
   "codemirror_mode": {
    "name": "ipython",
    "version": 3
   },
   "file_extension": ".py",
   "mimetype": "text/x-python",
   "name": "python",
   "nbconvert_exporter": "python",
   "pygments_lexer": "ipython3",
   "version": "3.11.4"
  }
 },
 "nbformat": 4,
 "nbformat_minor": 5
}
