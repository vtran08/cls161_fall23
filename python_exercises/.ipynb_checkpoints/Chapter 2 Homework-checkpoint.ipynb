{
 "cells": [
  {
   "cell_type": "markdown",
   "id": "b51f2f6b",
   "metadata": {},
   "source": [
    "# 2-1 "
   ]
  },
  {
   "cell_type": "code",
   "execution_count": 1,
   "id": "718ce22f",
   "metadata": {},
   "outputs": [
    {
     "name": "stdout",
     "output_type": "stream",
     "text": [
      "It's raining\n"
     ]
    }
   ],
   "source": [
    "message = \"It's raining\"\n",
    "print(message)"
   ]
  },
  {
   "cell_type": "markdown",
   "id": "d03e679d",
   "metadata": {},
   "source": [
    "# 2-2"
   ]
  },
  {
   "cell_type": "code",
   "execution_count": 2,
   "id": "18110a2a",
   "metadata": {},
   "outputs": [
    {
     "name": "stdout",
     "output_type": "stream",
     "text": [
      "It's still raining\n",
      "It's raining really hard actually\n"
     ]
    }
   ],
   "source": [
    "message1 = \"It's still raining\"\n",
    "print(message1)\n",
    "\n",
    "message1 = \"It's raining really hard actually\"\n",
    "print(message1)"
   ]
  },
  {
   "cell_type": "markdown",
   "id": "7b46c750",
   "metadata": {},
   "source": [
    "# 2-3 "
   ]
  },
  {
   "cell_type": "code",
   "execution_count": 3,
   "id": "cdab9168",
   "metadata": {},
   "outputs": [
    {
     "name": "stdout",
     "output_type": "stream",
     "text": [
      "Hi, Sarah Sze your work takes my breath away!\n"
     ]
    }
   ],
   "source": [
    "name = \"Sarah Sze\"\n",
    "note = \"Hi, \" + name.title() + \" your work takes my breath away!\"\n",
    "\n",
    "print (note)"
   ]
  },
  {
   "cell_type": "markdown",
   "id": "ce346fea",
   "metadata": {},
   "source": [
    "# 2-4"
   ]
  },
  {
   "cell_type": "code",
   "execution_count": 4,
   "id": "ebea10b3",
   "metadata": {},
   "outputs": [
    {
     "name": "stdout",
     "output_type": "stream",
     "text": [
      "vivian tran\n",
      "VIVIAN TRAN\n",
      "Vivian Tran\n"
     ]
    }
   ],
   "source": [
    "name1 = \"Vivian Tran\"\n",
    "\n",
    "print(name1.lower())\n",
    "print(name1.upper())\n",
    "print(name1.title())"
   ]
  },
  {
   "cell_type": "markdown",
   "id": "457b97e1",
   "metadata": {},
   "source": [
    "# 2-5"
   ]
  },
  {
   "cell_type": "code",
   "execution_count": 6,
   "id": "f43b5ccf",
   "metadata": {},
   "outputs": [
    {
     "name": "stdout",
     "output_type": "stream",
     "text": [
      "Ocean Vuong once wrote, \"The most beautiful part of your body is where it’s headed, & remember, loneliness is still time spent with the world.\"\n"
     ]
    }
   ],
   "source": [
    "print('Ocean Vuong once wrote, \"The most beautiful part of your body is where it’s headed, & remember, loneliness is still time spent with the world.\"')\n"
   ]
  },
  {
   "cell_type": "markdown",
   "id": "76992422",
   "metadata": {},
   "source": [
    "# 2-6"
   ]
  },
  {
   "cell_type": "code",
   "execution_count": 8,
   "id": "4707c422",
   "metadata": {},
   "outputs": [
    {
     "name": "stdout",
     "output_type": "stream",
     "text": [
      "Ocean Vuong once wrote, \"The most beautiful part of your body is where it’s headed, & remember, loneliness is still time spent with the world.\"\n"
     ]
    }
   ],
   "source": [
    "famous_person = \"Ocean Vuong\"\n",
    "message = '\"The most beautiful part of your body is where it’s headed, & remember, loneliness is still time spent with the world.\"'\n",
    "\n",
    "print(famous_person + \" once wrote, \" + message)"
   ]
  },
  {
   "cell_type": "markdown",
   "id": "5f2140d3",
   "metadata": {},
   "source": [
    "# 2-7"
   ]
  },
  {
   "cell_type": "code",
   "execution_count": 10,
   "id": "14bb73a3",
   "metadata": {},
   "outputs": [
    {
     "name": "stdout",
     "output_type": "stream",
     "text": [
      "\n",
      " Vivian Tran \t\n",
      "Vivian Tran \t\n",
      "\n",
      " Vivian Tran\n",
      "Vivian Tran\n"
     ]
    }
   ],
   "source": [
    "name2 = \"\\n Vivian Tran \\t\"\n",
    "print(name2)\n",
    "print(name2.lstrip())\n",
    "print(name2.rstrip())\n",
    "print(name2.strip())"
   ]
  },
  {
   "cell_type": "markdown",
   "id": "e99cd4a2",
   "metadata": {},
   "source": [
    "# 2-10"
   ]
  },
  {
   "cell_type": "code",
   "execution_count": 11,
   "id": "18caad03",
   "metadata": {},
   "outputs": [],
   "source": [
    "# Exercise 2-10 \n",
    "# Name: Vivian Tran\n",
    "# Date: September 18, 2023\n",
    "# Notes: My homework files for Intro to DH containing exercises 2-3 to 2-10"
   ]
  }
 ],
 "metadata": {
  "kernelspec": {
   "display_name": "Python 3 (ipykernel)",
   "language": "python",
   "name": "python3"
  },
  "language_info": {
   "codemirror_mode": {
    "name": "ipython",
    "version": 3
   },
   "file_extension": ".py",
   "mimetype": "text/x-python",
   "name": "python",
   "nbconvert_exporter": "python",
   "pygments_lexer": "ipython3",
   "version": "3.11.4"
  }
 },
 "nbformat": 4,
 "nbformat_minor": 5
}
