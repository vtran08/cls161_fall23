{
 "cells": [
  {
   "cell_type": "markdown",
   "id": "ae062f4c",
   "metadata": {},
   "source": [
    "# 8-1"
   ]
  },
  {
   "cell_type": "code",
   "execution_count": 1,
   "id": "919a7b01",
   "metadata": {},
   "outputs": [
    {
     "name": "stdout",
     "output_type": "stream",
     "text": [
      "Hello, I am learning about functions in Python! :D\n"
     ]
    }
   ],
   "source": [
    "def display_message():\n",
    "    print(\"Hello, I am learning about functions in Python! :D\")\n",
    "    \n",
    "display_message()"
   ]
  },
  {
   "cell_type": "markdown",
   "id": "cbe14026",
   "metadata": {},
   "source": [
    "# 8-2"
   ]
  },
  {
   "cell_type": "code",
   "execution_count": 2,
   "id": "598bd5ab",
   "metadata": {},
   "outputs": [
    {
     "name": "stdout",
     "output_type": "stream",
     "text": [
      "One of my favorite books is A Tale for the Time Being\n"
     ]
    }
   ],
   "source": [
    "def favorite_book(title):\n",
    "    print(f\"One of my favorite books is {title}\")\n",
    "\n",
    "favorite_book(\"A Tale for the Time Being\")"
   ]
  },
  {
   "cell_type": "markdown",
   "id": "59942aaa",
   "metadata": {},
   "source": [
    "# 8-3"
   ]
  },
  {
   "cell_type": "code",
   "execution_count": 7,
   "id": "cffe8515",
   "metadata": {},
   "outputs": [
    {
     "name": "stdout",
     "output_type": "stream",
     "text": [
      "Creating a T-shirt of size S that says 'Loss is the boss'\n",
      "Creating a T-shirt of size S that says 'Loss is the boss'\n"
     ]
    }
   ],
   "source": [
    "def make_shirt(size, text):\n",
    "    print(f\"Creating a T-shirt of size {size} that says '{text}'\")\n",
    "\n",
    "make_shirt(text=\"Loss is the boss\", size=\"S\")\n",
    "make_shirt(\"S\", \"Loss is the boss\")"
   ]
  },
  {
   "cell_type": "markdown",
   "id": "cb9791d8",
   "metadata": {},
   "source": [
    "# 8-5"
   ]
  },
  {
   "cell_type": "code",
   "execution_count": 9,
   "id": "d82852fd",
   "metadata": {},
   "outputs": [
    {
     "name": "stdout",
     "output_type": "stream",
     "text": [
      "New York City is in the United States\n",
      "Boston is in the United States\n",
      "New Haven is in the United States\n"
     ]
    }
   ],
   "source": [
    "def describe_city(city, country = \"the United States\"):\n",
    "    print(f\"{city} is in {country}\")\n",
    "\n",
    "describe_city(\"New York City\")\n",
    "describe_city(\"Boston\")\n",
    "describe_city(\"New Haven\")"
   ]
  },
  {
   "cell_type": "markdown",
   "id": "954c5c90",
   "metadata": {},
   "source": [
    "# 8-6"
   ]
  },
  {
   "cell_type": "code",
   "execution_count": 15,
   "id": "dff0b25f",
   "metadata": {},
   "outputs": [
    {
     "name": "stdout",
     "output_type": "stream",
     "text": [
      "Toronto, Canada\n",
      "New York, USA\n",
      "Tokyo, Japan\n"
     ]
    }
   ],
   "source": [
    "def city_country(city, country):\n",
    "    result = city + \", \" + country\n",
    "    return result\n",
    "\n",
    "print(city_country(\"Toronto\", \"Canada\"))\n",
    "print(city_country(\"New York\", \"USA\"))\n",
    "print(city_country(\"Tokyo\", \"Japan\"))"
   ]
  },
  {
   "cell_type": "markdown",
   "id": "8c4d774f",
   "metadata": {},
   "source": [
    "# 8-7"
   ]
  },
  {
   "cell_type": "code",
   "execution_count": 18,
   "id": "ddf791a8",
   "metadata": {},
   "outputs": [
    {
     "name": "stdout",
     "output_type": "stream",
     "text": [
      "{'RM': 'Indigo'}\n",
      "{'Mitski': 'The Land is Inhospitable And So Are We'}\n",
      "{'Eve': 'Kaikai Kitan'}\n"
     ]
    }
   ],
   "source": [
    "def make_album(artist_name, album_title):\n",
    "    new_dictionary = {artist_name: album_title}\n",
    "    return new_dictionary\n",
    "\n",
    "print(make_album(\"RM\", \"Indigo\"))\n",
    "print(make_album(\"Mitski\", \"The Land is Inhospitable And So Are We\"))\n",
    "print(make_album(\"Eve\", \"Kaikai Kitan\"))"
   ]
  }
 ],
 "metadata": {
  "kernelspec": {
   "display_name": "Python 3 (ipykernel)",
   "language": "python",
   "name": "python3"
  },
  "language_info": {
   "codemirror_mode": {
    "name": "ipython",
    "version": 3
   },
   "file_extension": ".py",
   "mimetype": "text/x-python",
   "name": "python",
   "nbconvert_exporter": "python",
   "pygments_lexer": "ipython3",
   "version": "3.11.4"
  }
 },
 "nbformat": 4,
 "nbformat_minor": 5
}
