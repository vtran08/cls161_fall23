{
 "cells": [
  {
   "cell_type": "markdown",
   "id": "8a3e0422",
   "metadata": {},
   "source": [
    "# 3-1"
   ]
  },
  {
   "cell_type": "code",
   "execution_count": 1,
   "id": "8dd57248",
   "metadata": {},
   "outputs": [
    {
     "name": "stdout",
     "output_type": "stream",
     "text": [
      "Yao\n",
      "Serafina\n",
      "Justyn\n",
      "Cerena\n"
     ]
    }
   ],
   "source": [
    "friends = ['Yao', 'Serafina', 'Justyn', 'Cerena']\n",
    "\n",
    "print(friends[0])\n",
    "print(friends[1])\n",
    "print(friends[2])\n",
    "print(friends[-1])"
   ]
  },
  {
   "cell_type": "markdown",
   "id": "89e9eb33",
   "metadata": {},
   "source": [
    "# 3-2"
   ]
  },
  {
   "cell_type": "code",
   "execution_count": 2,
   "id": "86e62db5",
   "metadata": {},
   "outputs": [
    {
     "name": "stdout",
     "output_type": "stream",
     "text": [
      "I miss you, Yao\n",
      "I miss you, Serafina\n",
      "I miss you, Justyn\n",
      "I miss you, Cerena\n"
     ]
    }
   ],
   "source": [
    "message = \"I miss you, \"\n",
    "\n",
    "print(message + friends[0])\n",
    "print(message + friends[1])\n",
    "print(message + friends[2])\n",
    "print(message + friends[-1])"
   ]
  },
  {
   "cell_type": "markdown",
   "id": "2bcca1f2",
   "metadata": {},
   "source": [
    "# 3-3 (note: using artists instead of modes of transport) "
   ]
  },
  {
   "cell_type": "code",
   "execution_count": 4,
   "id": "5c1b8478",
   "metadata": {},
   "outputs": [
    {
     "name": "stdout",
     "output_type": "stream",
     "text": [
      "I am a fan of Sarah Sze\n",
      "Carl Andre is a sculptor\n",
      "Mickalene Thomas is an interdisciplinary artist\n"
     ]
    }
   ],
   "source": [
    "artists = ['Sarah Sze', 'Carl Andre', 'Mickalene Thomas']\n",
    "\n",
    "print(\"I am a fan of \" + artists[0])\n",
    "print(artists[1] + \" is a sculptor\")\n",
    "print(artists[-1] + \" is an interdisciplinary artist\")"
   ]
  },
  {
   "cell_type": "markdown",
   "id": "5c6638e9",
   "metadata": {},
   "source": [
    "# 3-4"
   ]
  },
  {
   "cell_type": "code",
   "execution_count": 6,
   "id": "1c38382f",
   "metadata": {},
   "outputs": [
    {
     "name": "stdout",
     "output_type": "stream",
     "text": [
      "Kim Namjoon, you are invited to dinner at my place!\n",
      "Tavares Strachan, you are invited to dinner at my place!\n",
      "Sarah Sze, you are invited to dinner at my place!\n"
     ]
    }
   ],
   "source": [
    "guests = ['Kim Namjoon', 'Tavares Strachan', 'Sarah Sze']\n",
    "\n",
    "message = \", you are invited to dinner at my place!\"\n",
    "\n",
    "print(guests[0] + message)\n",
    "print(guests[1] + message)\n",
    "print(guests[-1] + message)"
   ]
  },
  {
   "cell_type": "markdown",
   "id": "5a82bcf1",
   "metadata": {},
   "source": [
    "# 3-5"
   ]
  },
  {
   "cell_type": "code",
   "execution_count": 8,
   "id": "9e0796db",
   "metadata": {},
   "outputs": [
    {
     "name": "stdout",
     "output_type": "stream",
     "text": [
      "Min Yoongi, you are invited to dinner at my place!\n",
      "Tavares Strachan, you are invited to dinner at my place!\n",
      "Sarah Sze, you are invited to dinner at my place!\n",
      "Unfortunately, Kim Namjoon could not make it\n"
     ]
    }
   ],
   "source": [
    "del guests[0]\n",
    "guests.insert(0, \"Min Yoongi\")\n",
    "print(guests[0] + message)\n",
    "print(guests[1] + message)\n",
    "print(guests[-1] + message)\n",
    "print(\"Unfortunately, Kim Namjoon could not make it\")"
   ]
  },
  {
   "cell_type": "markdown",
   "id": "c994cb73",
   "metadata": {},
   "source": [
    "# 3-6"
   ]
  },
  {
   "cell_type": "code",
   "execution_count": 10,
   "id": "07717b15",
   "metadata": {},
   "outputs": [
    {
     "name": "stdout",
     "output_type": "stream",
     "text": [
      "Lisa Sigal, you are invited to dinner at my place!\n",
      "Lisa Sigal, you are invited to dinner at my place!\n",
      "Darin Murphy, you are invited to dinner at my place!\n",
      "Min Yoongi, you are invited to dinner at my place!\n",
      "Darin Murphy, you are invited to dinner at my place!\n",
      "Carrie Salazar, you are invited to dinner at my place!\n",
      "We found a bigger table!\n"
     ]
    }
   ],
   "source": [
    "guests.insert(0, \"Lisa Sigal\")\n",
    "guests.insert(2, \"Darin Murphy\")\n",
    "guests.append(\"Carrie Salazar\")\n",
    "\n",
    "print(guests[0] + message)\n",
    "print(guests[1] + message)\n",
    "print(guests[2] + message)\n",
    "print(guests[3] + message)\n",
    "print(guests[4] + message)\n",
    "print(guests[-1] + message)\n",
    "print(\"We found a bigger table!\")"
   ]
  },
  {
   "cell_type": "markdown",
   "id": "f3e77a32",
   "metadata": {},
   "source": [
    "# 3-7"
   ]
  },
  {
   "cell_type": "code",
   "execution_count": 11,
   "id": "c012adfd",
   "metadata": {},
   "outputs": [
    {
     "name": "stdout",
     "output_type": "stream",
     "text": [
      "I'm sorry, Carrie Salazar there is not enough room for you at the dinner :(\n",
      "I'm sorry, Carrie Salazar there is not enough room for you at the dinner :(\n",
      "I'm sorry, Sarah Sze there is not enough room for you at the dinner :(\n",
      "I'm sorry, Tavares Strachan there is not enough room for you at the dinner :(\n",
      "Oof, sorry I can actually only have 2 people over\n"
     ]
    }
   ],
   "source": [
    "guest1 = guests.pop(-1)\n",
    "print(\"I'm sorry, \" + guest1 + \" there is not enough room for you at the dinner :(\")\n",
    "\n",
    "guest2 = guests.pop(-1)\n",
    "print(\"I'm sorry, \" + guest2 + \" there is not enough room for you at the dinner :(\")\n",
    "\n",
    "guest3 = guests.pop(-1)\n",
    "print(\"I'm sorry, \" + guest3 + \" there is not enough room for you at the dinner :(\")\n",
    "\n",
    "guest4 = guests.pop(-1)\n",
    "print(\"I'm sorry, \" + guest4 + \" there is not enough room for you at the dinner :(\")\n",
    "\n",
    "print(\"Oof, sorry I can actually only have 2 people over\")"
   ]
  },
  {
   "cell_type": "markdown",
   "id": "16fe1bf6",
   "metadata": {},
   "source": [
    "# 3-8"
   ]
  },
  {
   "cell_type": "code",
   "execution_count": 17,
   "id": "8fc3611d",
   "metadata": {},
   "outputs": [
    {
     "name": "stdout",
     "output_type": "stream",
     "text": [
      "['Ho Chi Minh City', 'Tokyo', 'Mumbai', 'Seoul', 'New York City']\n",
      "['Ho Chi Minh City', 'Mumbai', 'New York City', 'Seoul', 'Tokyo']\n",
      "['Ho Chi Minh City', 'Tokyo', 'Mumbai', 'Seoul', 'New York City']\n",
      "['New York City', 'Seoul', 'Mumbai', 'Tokyo', 'Ho Chi Minh City']\n",
      "['Ho Chi Minh City', 'Tokyo', 'Mumbai', 'Seoul', 'New York City']\n",
      "['Ho Chi Minh City', 'Mumbai', 'New York City', 'Seoul', 'Tokyo']\n",
      "['Tokyo', 'Seoul', 'New York City', 'Mumbai', 'Ho Chi Minh City']\n"
     ]
    }
   ],
   "source": [
    "places = ['Ho Chi Minh City', 'Tokyo', 'Mumbai', 'Seoul', 'New York City']\n",
    "\n",
    "#fir\n",
    "print(places)\n",
    "print(sorted(places))\n",
    "print(places)\n",
    "places.reverse()\n",
    "print(places)\n",
    "places.reverse()\n",
    "print(places)\n",
    "places.sort()\n",
    "print(places)\n",
    "places.sort(reverse=True)\n",
    "print(places)"
   ]
  },
  {
   "cell_type": "code",
   "execution_count": null,
   "id": "fe8c8671",
   "metadata": {},
   "outputs": [],
   "source": []
  }
 ],
 "metadata": {
  "kernelspec": {
   "display_name": "Python 3 (ipykernel)",
   "language": "python",
   "name": "python3"
  },
  "language_info": {
   "codemirror_mode": {
    "name": "ipython",
    "version": 3
   },
   "file_extension": ".py",
   "mimetype": "text/x-python",
   "name": "python",
   "nbconvert_exporter": "python",
   "pygments_lexer": "ipython3",
   "version": "3.11.4"
  }
 },
 "nbformat": 4,
 "nbformat_minor": 5
}
